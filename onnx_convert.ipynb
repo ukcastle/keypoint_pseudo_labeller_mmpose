{
 "cells": [
  {
   "cell_type": "code",
   "execution_count": 10,
   "metadata": {},
   "outputs": [
    {
     "name": "stdout",
     "output_type": "stream",
     "text": [
      "load checkpoint from local path: src/model/best.pth\n"
     ]
    }
   ],
   "source": [
    "from mmpose.apis import init_pose_model\n",
    "import torch\n",
    "CONFIG = \"src/model/golf_mobilenetv2_256x192.py\"\n",
    "WEIGHT = \"src/model/best.pth\"\n",
    "DEVICE = \"cpu\"\n",
    "# DEVICE = \"cuda:1\"\n",
    "\n",
    "model = init_pose_model(CONFIG, WEIGHT, DEVICE)\n",
    "from src.util import convert_batchnorm, Onnx_Wrapper\n",
    "model = convert_batchnorm(model)\n",
    "model.eval()\n",
    "model = Onnx_Wrapper(model)"
   ]
  },
  {
   "cell_type": "code",
   "execution_count": 11,
   "metadata": {},
   "outputs": [
    {
     "name": "stdout",
     "output_type": "stream",
     "text": [
      "46.3 ms ± 465 µs per loop (mean ± std. dev. of 7 runs, 10 loops each)\n"
     ]
    }
   ],
   "source": [
    "# gpu : 9.14ms ± 139µs\n",
    "# cpu : 45.6 ms ± 408 µs\n",
    "%timeit model(torch.randn(1,3,256,192, device=DEVICE)) "
   ]
  },
  {
   "cell_type": "code",
   "execution_count": 3,
   "metadata": {},
   "outputs": [
    {
     "name": "stderr",
     "output_type": "stream",
     "text": [
      "c:\\Users\\admin\\anaconda3\\envs\\mmpose\\lib\\site-packages\\mmcv\\cnn\\bricks\\wrappers.py:89: TracerWarning: Converting a tensor to a Python boolean might cause the trace to be incorrect. We can't record the data flow of Python values, so this value will be treated as a constant in the future. This means that the trace might not generalize to other inputs!\n",
      "  if x.numel() == 0 and obsolete_torch_version(TORCH_VERSION, (1, 4)):\n"
     ]
    }
   ],
   "source": [
    "import onnx\n",
    "from mmcv.onnx.symbolic import register_extra_symbolics\n",
    "OUTPUT_NAME = \"output.onnx\"\n",
    "OPSET = 11\n",
    "torch.onnx.export(\n",
    "  model,\n",
    "  torch.randn(1,3,256,192),\n",
    "  OUTPUT_NAME,\n",
    "  export_params=True,\n",
    "  keep_initializers_as_inputs=True,\n",
    "  verbose=False,\n",
    "  opset_version=OPSET)"
   ]
  }
 ],
 "metadata": {
  "kernelspec": {
   "display_name": "Python 3.8.13 ('mmpose')",
   "language": "python",
   "name": "python3"
  },
  "language_info": {
   "codemirror_mode": {
    "name": "ipython",
    "version": 3
   },
   "file_extension": ".py",
   "mimetype": "text/x-python",
   "name": "python",
   "nbconvert_exporter": "python",
   "pygments_lexer": "ipython3",
   "version": "3.8.13"
  },
  "orig_nbformat": 4,
  "vscode": {
   "interpreter": {
    "hash": "a98e0978d9f3e5a2c8094dd396c51cad1c5df37bc7fdac0fc3c661d648e28e3f"
   }
  }
 },
 "nbformat": 4,
 "nbformat_minor": 2
}
